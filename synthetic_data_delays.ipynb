{
 "cells": [
  {
   "cell_type": "markdown",
   "id": "269023cc",
   "metadata": {},
   "source": [
    "### A. Goldman, N. Puchkin, V. Shcherbakova, and U. Vinogradova\n",
    "\n",
    "### Numerical experiments on artificial data sets, described in the paper\n",
    "### \"A Contrastive Approach to Online Change Point Detection\" (arXiv:2206.10143)"
   ]
  },
  {
   "cell_type": "code",
   "execution_count": 1,
   "id": "c4598ed7",
   "metadata": {
    "id": "c4598ed7"
   },
   "outputs": [],
   "source": [
    "import numpy as np\n",
    "from numpy.random import randn\n",
    "from numpy.random import laplace\n",
    "import pandas as pd\n",
    "import matplotlib.pyplot as plt\n",
    "\n",
    "# Import the algorithms for comparison\n",
    "from algorithms.contrastive_change_point import compute_test_stat_linear\n",
    "from algorithms.contrastive_change_point import compute_test_stat_nn\n",
    "from algorithms.fast_contrastive_change_point import compute_test_stat_ftal\n",
    "from algorithms.kliep import compute_test_stat_kliep\n",
    "from algorithms.m_statistic import compute_test_stat_mmd\n",
    "from algorithms.cusum import compute_cusum\n",
    "\n",
    "# Set the thresholds as recorded in the files\n",
    "# in the 'thresholds' folder\n",
    "from thresholds.consts import *\n",
    "\n",
    "%matplotlib inline"
   ]
  },
  {
   "cell_type": "markdown",
   "id": "3957ad35",
   "metadata": {
    "id": "3957ad35"
   },
   "source": [
    "### Mean shift detection"
   ]
  },
  {
   "cell_type": "code",
   "execution_count": 2,
   "id": "2z3SQYf2WG6A",
   "metadata": {
    "id": "2z3SQYf2WG6A"
   },
   "outputs": [
    {
     "name": "stdout",
     "output_type": "stream",
     "text": [
      "Iteration 0\n",
      "Iteration 1\n",
      "Iteration 2\n",
      "Iteration 3\n",
      "Iteration 4\n",
      "Iteration 5\n",
      "Iteration 6\n",
      "Iteration 7\n",
      "Iteration 8\n",
      "Iteration 9\n"
     ]
    }
   ],
   "source": [
    "np.random.seed(1)\n",
    "\n",
    "# Number of observations\n",
    "n = 150\n",
    "# True change point\n",
    "tau = 75\n",
    "\n",
    "# Shift size\n",
    "mu = 0.2\n",
    "\n",
    "# Standard deviation of the observations\n",
    "sigma = 0.1\n",
    "\n",
    "p = 2\n",
    "S_poly_list = []\n",
    "S_nn_list = []\n",
    "\n",
    "for item in range(10):\n",
    "    \n",
    "    print('Iteration', item)\n",
    "    \n",
    "    # Generate a Gaussian sequence of observations\n",
    "    X = sigma * randn(n)\n",
    "    X[tau:] += mu\n",
    "\n",
    "    S_poly, _ = compute_test_stat_linear(X, p)\n",
    "    S_nn, _ = compute_test_stat_nn(X, n_epochs=50)\n",
    "    \n",
    "    S_poly_list.append(S_poly)\n",
    "    S_nn_list.append(S_nn)"
   ]
  },
  {
   "cell_type": "code",
   "execution_count": 3,
   "id": "c3jQxAmtWUJN",
   "metadata": {
    "id": "c3jQxAmtWUJN"
   },
   "outputs": [
    {
     "name": "stdout",
     "output_type": "stream",
     "text": [
      "Neural networks. False alarms: 0\n",
      "Polynomials. False alarms: 0\n"
     ]
    }
   ],
   "source": [
    "t_lin = []\n",
    "t_nn = []\n",
    "\n",
    "fa_lin = 0\n",
    "fa_nn = 0\n",
    "\n",
    "for i in range(10):\n",
    "\n",
    "    S_lin = S_poly_list[i]\n",
    "    S_nn = S_nn_list[i]\n",
    "    imin_lin, _ = np.ma.flatnotmasked_edges(np.ma.masked_array(S_lin, S_lin <= threshold_p_2_poly))\n",
    "    imin_nn, _ = np.ma.flatnotmasked_edges(np.ma.masked_array(S_nn, S_nn <= threshold_nn))\n",
    "    \n",
    "    if imin_lin - tau <= 0:\n",
    "        fa_lin += 1\n",
    "    else:\n",
    "        t_lin.append(imin_lin - tau)\n",
    "        \n",
    "    if imin_nn - tau <= 0:\n",
    "        fa_nn += 1\n",
    "    else:\n",
    "        t_nn.append(imin_nn - tau)\n",
    "        \n",
    "print('Neural networks. False alarms:', fa_nn)\n",
    "print('Polynomials. False alarms:', fa_lin)"
   ]
  },
  {
   "cell_type": "code",
   "execution_count": 4,
   "id": "PkVhOSPRGOj4",
   "metadata": {
    "id": "PkVhOSPRGOj4",
    "outputId": "baae9b74-b82f-4e02-d543-63aaecdf5df7"
   },
   "outputs": [
    {
     "name": "stdout",
     "output_type": "stream",
     "text": [
      "polynomial basis 6.7 ± 2.0\n",
      "neural network 8.9 ± 1.2\n"
     ]
    }
   ],
   "source": [
    "t_lin_np = np.array(t_lin)\n",
    "DD_poly = np.round(t_lin_np.mean(), 1)\n",
    "std_DD_poly = np.round(t_lin_np.std(), 1)\n",
    "print('polynomial basis', DD_poly, '±', std_DD_poly)\n",
    "\n",
    "t_nn_np = np.array(t_nn)\n",
    "DD_nn = np.round(t_nn_np.mean(), 1)\n",
    "std_DD_nn = np.round(t_nn_np.std(), 1)\n",
    "print('neural network', DD_nn, '±', std_DD_nn)"
   ]
  },
  {
   "cell_type": "code",
   "execution_count": 5,
   "id": "8db2e4e1",
   "metadata": {},
   "outputs": [
    {
     "name": "stdout",
     "output_type": "stream",
     "text": [
      "Iteration 0\n",
      "Iteration 1\n",
      "Iteration 2\n",
      "Iteration 3\n",
      "Iteration 4\n",
      "Iteration 5\n",
      "Iteration 6\n",
      "Iteration 7\n",
      "Iteration 8\n",
      "Iteration 9\n"
     ]
    }
   ],
   "source": [
    "np.random.seed(1)\n",
    "\n",
    "# Number of observations\n",
    "n = 150\n",
    "# True change point\n",
    "tau = 75\n",
    "\n",
    "# Shift size\n",
    "mu = 0.2\n",
    "\n",
    "# Standard deviation of the observations\n",
    "sigma = 0.1\n",
    "\n",
    "p = 2\n",
    "S_hermite_list = []\n",
    "S_legendre_list = []\n",
    "\n",
    "for item in range(10):\n",
    "    \n",
    "    print('Iteration', item)\n",
    "    \n",
    "    # Generate a Gaussian sequence of observations\n",
    "    X = sigma * randn(n)\n",
    "    X[tau:] += mu\n",
    "\n",
    "    S_hermite, _ = compute_test_stat_ftal(X, p, beta=0.01, design='hermite')\n",
    "    S_legendre, _ = compute_test_stat_ftal(X, p, beta=0.01, design='legendre')\n",
    "    \n",
    "    S_hermite_list.append(S_hermite)\n",
    "    S_legendre_list.append(S_legendre)"
   ]
  },
  {
   "cell_type": "code",
   "execution_count": 6,
   "id": "277b51ef",
   "metadata": {},
   "outputs": [
    {
     "name": "stdout",
     "output_type": "stream",
     "text": [
      "Hermite polynomials. False alarms: 0\n",
      "Legendre polynomials. False alarms: 0\n"
     ]
    }
   ],
   "source": [
    "t_hermite = []\n",
    "t_legendre = []\n",
    "\n",
    "fa_hermite = 0\n",
    "fa_legendre = 0\n",
    "\n",
    "for i in range(10):\n",
    "\n",
    "    S_hermite = S_hermite_list[i]\n",
    "    S_legendre = S_legendre_list[i]\n",
    "    imin_hermite, _ = np.ma.flatnotmasked_edges(np.ma.masked_array(S_hermite,\\\n",
    "                                                                   S_hermite <= threshold_hermite_p_2_001))\n",
    "    imin_legendre, _ = np.ma.flatnotmasked_edges(np.ma.masked_array(S_legendre,\\\n",
    "                                                                    S_legendre <= threshold_legendre_p_2_001))\n",
    "    \n",
    "    if imin_hermite - tau <= 0:\n",
    "        fa_hermite += 1\n",
    "    else:\n",
    "        t_hermite.append(imin_hermite - tau)\n",
    "        \n",
    "    if imin_legendre - tau <= 0:\n",
    "        fa_legendre += 1\n",
    "    else:\n",
    "        t_legendre.append(imin_legendre - tau)\n",
    "        \n",
    "print('Hermite polynomials. False alarms:', fa_hermite)\n",
    "print('Legendre polynomials. False alarms:', fa_legendre)"
   ]
  },
  {
   "cell_type": "code",
   "execution_count": 7,
   "id": "bb1d9d82",
   "metadata": {},
   "outputs": [
    {
     "name": "stdout",
     "output_type": "stream",
     "text": [
      "FTAL Hermite 5.5 ± 1.7\n",
      "FTAL Legendre 5.5 ± 1.7\n"
     ]
    }
   ],
   "source": [
    "t_hermite_np = np.array(t_hermite)\n",
    "DD_hermite = np.round(t_hermite_np.mean(), 1)\n",
    "std_DD_hermite = np.round(t_hermite_np.std(), 1)\n",
    "print('FTAL Hermite', DD_hermite, '±', std_DD_hermite)\n",
    "\n",
    "t_legendre_np = np.array(t_legendre)\n",
    "DD_legendre = np.round(t_legendre_np.mean(), 1)\n",
    "std_DD_legendre = np.round(t_legendre_np.std(), 1)\n",
    "print('FTAL Legendre', DD_legendre, '±', std_DD_legendre)"
   ]
  },
  {
   "cell_type": "code",
   "execution_count": 8,
   "id": "e8523eb3",
   "metadata": {
    "id": "e8523eb3",
    "outputId": "6318a8a7-1da1-4326-dfbe-b9b25346fc1b"
   },
   "outputs": [
    {
     "name": "stdout",
     "output_type": "stream",
     "text": [
      "Iteration 0\n",
      "Iteration 1\n",
      "Iteration 2\n",
      "Iteration 3\n",
      "Iteration 4\n",
      "Iteration 5\n",
      "Iteration 6\n",
      "Iteration 7\n",
      "Iteration 8\n",
      "Iteration 9\n"
     ]
    }
   ],
   "source": [
    "np.random.seed(1)\n",
    "\n",
    "# Number of observations\n",
    "n = 150\n",
    "# True change point\n",
    "tau = 75\n",
    "\n",
    "# Shift size\n",
    "mu = 0.2\n",
    "\n",
    "# Standard deviation of the observations\n",
    "sigma = 0.1\n",
    "\n",
    "S_kliep_list = []\n",
    "S_mmd_list = []\n",
    "S_cusum_list = []\n",
    "\n",
    "for item in range(10):\n",
    "    \n",
    "    print('Iteration', item)\n",
    "    \n",
    "    # Generate a Gaussian sequence of observations\n",
    "    X = sigma * randn(n)\n",
    "    X[tau:] += mu\n",
    "\n",
    "    S_kliep, _ = compute_test_stat_kliep(X, window_size=20, sigma=0.2)\n",
    "    S_mmd, _ = compute_test_stat_mmd(X, window_size=20, sigma=0.5)\n",
    "    S_cusum = compute_cusum(X)\n",
    "    \n",
    "    S_kliep_list.append(S_kliep)\n",
    "    S_mmd_list.append(S_mmd)\n",
    "    S_cusum_list.append(S_cusum)"
   ]
  },
  {
   "cell_type": "code",
   "execution_count": 9,
   "id": "9f220dc6",
   "metadata": {},
   "outputs": [
    {
     "name": "stdout",
     "output_type": "stream",
     "text": [
      "KLIEP. False alarms: 0\n",
      "M-statistic. False alarms: 0\n",
      "CUSUM. False alarms: 0\n"
     ]
    }
   ],
   "source": [
    "t_kliep = []\n",
    "t_mmd = []\n",
    "t_cusum = []\n",
    "\n",
    "fa_kliep = 0\n",
    "fa_mmd = 0\n",
    "fa_cusum = 0\n",
    "\n",
    "for i in range(10):\n",
    "\n",
    "    S_kliep = S_kliep_list[i]\n",
    "    S_mmd = S_mmd_list[i]\n",
    "    S_cusum = S_cusum_list[i]\n",
    "    \n",
    "    if np.sum(S_kliep > threshold_kliep_20) > 0:\n",
    "        imin_kliep, _ = np.ma.flatnotmasked_edges(np.ma.masked_array(S_kliep, S_kliep <= threshold_kliep_20))\n",
    "    else:\n",
    "        imin_kliep = n\n",
    "    \n",
    "    if np.sum(S_mmd > threshold_mmd_20_50) > 0:\n",
    "        imin_mmd, _ = np.ma.flatnotmasked_edges(np.ma.masked_array(S_mmd, S_mmd <= threshold_mmd_20_50))\n",
    "    else:\n",
    "        imin_mmd = n\n",
    "        \n",
    "    if np.sum(S_cusum > threshold_cusum) > 0:\n",
    "        imin_cusum, _ = np.ma.flatnotmasked_edges(np.ma.masked_array(S_cusum, S_cusum <= threshold_cusum))\n",
    "    else:\n",
    "        imin_cusum = n\n",
    "    \n",
    "    \n",
    "    if imin_kliep - tau <= 0:\n",
    "        fa_kliep += 1\n",
    "    else:\n",
    "        t_kliep.append(imin_kliep - tau)\n",
    "        \n",
    "    if imin_mmd - tau <= 0:\n",
    "        fa_mmd += 1\n",
    "    else:\n",
    "        t_mmd.append(imin_mmd - tau)\n",
    "        \n",
    "    if imin_cusum - tau <= 0:\n",
    "        fa_cusum += 1\n",
    "    else:\n",
    "        t_cusum.append(imin_cusum - tau)\n",
    "        \n",
    "print('KLIEP. False alarms:', fa_kliep)\n",
    "print('M-statistic. False alarms:', fa_mmd)\n",
    "print('CUSUM. False alarms:', fa_cusum)"
   ]
  },
  {
   "cell_type": "code",
   "execution_count": 10,
   "id": "cf59e466",
   "metadata": {},
   "outputs": [
    {
     "name": "stdout",
     "output_type": "stream",
     "text": [
      "KLIEP 8.9 ± 3.6\n",
      "M-statistic 10.4 ± 3.4\n",
      "CUSUM 5.0 ± 2.0\n"
     ]
    }
   ],
   "source": [
    "t_kliep_np = np.array(t_kliep)\n",
    "DD_kliep = np.round(t_kliep_np.mean(), 1)\n",
    "std_DD_kliep = np.round(t_kliep_np.std(), 1)\n",
    "print('KLIEP', DD_kliep, '±', std_DD_kliep)\n",
    "\n",
    "t_mmd_np = np.array(t_mmd)\n",
    "DD_mmd = np.round(t_mmd_np.mean(), 1)\n",
    "std_DD_mmd = np.round(t_mmd_np.std(), 1)\n",
    "print('M-statistic', DD_mmd, '±', std_DD_mmd)\n",
    "\n",
    "t_cusum_np = np.array(t_cusum)\n",
    "DD_cusum = np.round(t_cusum_np.mean(), 1)\n",
    "std_DD_cusum = np.round(t_cusum_np.std(), 1)\n",
    "print('CUSUM', DD_cusum, '±', std_DD_cusum)"
   ]
  },
  {
   "cell_type": "markdown",
   "id": "85808ae1",
   "metadata": {
    "id": "85808ae1"
   },
   "source": [
    "### Variance change detection"
   ]
  },
  {
   "cell_type": "code",
   "execution_count": 11,
   "id": "AaoOwT_6bOQ-",
   "metadata": {
    "colab": {
     "background_save": true,
     "base_uri": "https://localhost:8080/"
    },
    "id": "AaoOwT_6bOQ-",
    "outputId": "a324be7b-ec6f-4ce5-b7dd-ece58e214a87"
   },
   "outputs": [
    {
     "name": "stdout",
     "output_type": "stream",
     "text": [
      "Iteration 0\n",
      "Iteration 1\n",
      "Iteration 2\n",
      "Iteration 3\n",
      "Iteration 4\n",
      "Iteration 5\n",
      "Iteration 6\n",
      "Iteration 7\n",
      "Iteration 8\n",
      "Iteration 9\n"
     ]
    }
   ],
   "source": [
    "np.random.seed(1)\n",
    "\n",
    "# Number of observations\n",
    "n = 150\n",
    "# True change point\n",
    "tau = 75\n",
    "\n",
    "# Standard deviation before the change point\n",
    "sigma_1 = 0.1\n",
    "# Standard deviation after the change point\n",
    "sigma_2 = 0.3\n",
    "\n",
    "p = 3\n",
    "S_poly_list = []\n",
    "S_nn_list = []\n",
    "\n",
    "for item in range(10):\n",
    "    \n",
    "    print('Iteration', item)\n",
    "    \n",
    "    # Generate a Gaussian sequence of observations\n",
    "    X = randn(n)\n",
    "    X[:tau] *= sigma_1\n",
    "    X[tau:] *= sigma_2\n",
    "\n",
    "    S_poly, _ = compute_test_stat_linear(X, p)\n",
    "    S_nn, _ = compute_test_stat_nn(X, n_epochs=50)\n",
    "    \n",
    "    S_poly_list.append(S_poly)\n",
    "    S_nn_list.append(S_nn)"
   ]
  },
  {
   "cell_type": "code",
   "execution_count": 12,
   "id": "5sIZ4PcwGw10",
   "metadata": {
    "id": "5sIZ4PcwGw10"
   },
   "outputs": [
    {
     "name": "stdout",
     "output_type": "stream",
     "text": [
      "Neural networks. False alarms: 0\n",
      "Polynomials. False alarms: 0\n"
     ]
    }
   ],
   "source": [
    "t_lin = []\n",
    "t_nn = []\n",
    "\n",
    "fa_lin = 0\n",
    "fa_nn = 0\n",
    "\n",
    "for i in range(10):\n",
    "\n",
    "    S_lin = S_poly_list[i]\n",
    "    S_nn = S_nn_list[i]\n",
    "    imin_lin, _ = np.ma.flatnotmasked_edges(np.ma.masked_array(S_lin, S_lin <= threshold_p_3_poly))\n",
    "    imin_nn, _ = np.ma.flatnotmasked_edges(np.ma.masked_array(S_nn, S_nn <= threshold_nn))\n",
    "    \n",
    "    if imin_lin - tau <= 0:\n",
    "        fa_lin += 1\n",
    "    else:\n",
    "        t_lin.append(imin_lin - tau)\n",
    "        \n",
    "    if imin_nn - tau <= 0:\n",
    "        fa_nn += 1\n",
    "    else:\n",
    "        t_nn.append(imin_nn - tau)\n",
    "        \n",
    "print('Neural networks. False alarms:', fa_nn)\n",
    "print('Polynomials. False alarms:', fa_lin)"
   ]
  },
  {
   "cell_type": "code",
   "execution_count": 13,
   "id": "DqFubTnOWG6G",
   "metadata": {
    "id": "DqFubTnOWG6G",
    "outputId": "a4dacd4f-6cc2-4203-d423-f2e4b9ea660a"
   },
   "outputs": [
    {
     "name": "stdout",
     "output_type": "stream",
     "text": [
      "polynomial basis 16.4 ± 8.1\n",
      "neural network 18.7 ± 9.2\n"
     ]
    }
   ],
   "source": [
    "t_lin_np = np.array(t_lin)\n",
    "DD_poly = np.round(t_lin_np.mean(), 1)\n",
    "std_DD_poly = np.round(t_lin_np.std(), 1)\n",
    "print('polynomial basis', DD_poly, '±', std_DD_poly)\n",
    "\n",
    "t_nn_np = np.array(t_nn)\n",
    "DD_nn = np.round(t_nn_np.mean(), 1)\n",
    "std_DD_nn = np.round(t_nn_np.std(), 1)\n",
    "print('neural network', DD_nn, '±', std_DD_nn)"
   ]
  },
  {
   "cell_type": "code",
   "execution_count": 14,
   "id": "a170f001",
   "metadata": {},
   "outputs": [
    {
     "name": "stdout",
     "output_type": "stream",
     "text": [
      "Iteration 0\n",
      "Iteration 1\n",
      "Iteration 2\n",
      "Iteration 3\n",
      "Iteration 4\n",
      "Iteration 5\n",
      "Iteration 6\n",
      "Iteration 7\n",
      "Iteration 8\n",
      "Iteration 9\n"
     ]
    }
   ],
   "source": [
    "np.random.seed(1)\n",
    "\n",
    "# Number of observations\n",
    "n = 150\n",
    "# True change point\n",
    "tau = 75\n",
    "\n",
    "# Standard deviation before the change point\n",
    "sigma_1 = 0.1\n",
    "# Standard deviation after the change point\n",
    "sigma_2 = 0.3\n",
    "\n",
    "p = 3\n",
    "S_hermite_list = []\n",
    "S_legendre_list = []\n",
    "\n",
    "for item in range(10):\n",
    "    \n",
    "    print('Iteration', item)\n",
    "    \n",
    "    # Generate a Gaussian sequence of observations\n",
    "    X = randn(n)\n",
    "    X[:tau] *= sigma_1\n",
    "    X[tau:] *= sigma_2\n",
    "\n",
    "    S_hermite, _ = compute_test_stat_ftal(X, p, beta=0.01, design='hermite')\n",
    "    S_legendre, _ = compute_test_stat_ftal(X, p, beta=0.01, design='legendre')\n",
    "    \n",
    "    S_hermite_list.append(S_hermite)\n",
    "    S_legendre_list.append(S_legendre)"
   ]
  },
  {
   "cell_type": "code",
   "execution_count": 15,
   "id": "f1a5db61",
   "metadata": {},
   "outputs": [
    {
     "name": "stdout",
     "output_type": "stream",
     "text": [
      "Hermite polynomials. False alarms: 0\n",
      "Legendre polynomials. False alarms: 0\n"
     ]
    }
   ],
   "source": [
    "t_hermite = []\n",
    "t_legendre = []\n",
    "\n",
    "fa_hermite = 0\n",
    "fa_legendre = 0\n",
    "\n",
    "for i in range(10):\n",
    "\n",
    "    S_hermite = S_hermite_list[i]\n",
    "    S_legendre = S_legendre_list[i]\n",
    "    imin_hermite, _ = np.ma.flatnotmasked_edges(np.ma.masked_array(S_hermite,\\\n",
    "                                                                   S_hermite <= threshold_hermite_p_3_001))\n",
    "    imin_legendre, _ = np.ma.flatnotmasked_edges(np.ma.masked_array(S_legendre,\\\n",
    "                                                                    S_legendre <= threshold_legendre_p_3_001))\n",
    "    \n",
    "    if imin_hermite - tau <= 0:\n",
    "        fa_hermite += 1\n",
    "    else:\n",
    "        t_hermite.append(imin_hermite - tau)\n",
    "        \n",
    "    if imin_legendre - tau <= 0:\n",
    "        fa_legendre += 1\n",
    "    else:\n",
    "        t_legendre.append(imin_legendre - tau)\n",
    "        \n",
    "print('Hermite polynomials. False alarms:', fa_hermite)\n",
    "print('Legendre polynomials. False alarms:', fa_legendre)"
   ]
  },
  {
   "cell_type": "code",
   "execution_count": 16,
   "id": "be53ddab",
   "metadata": {},
   "outputs": [
    {
     "name": "stdout",
     "output_type": "stream",
     "text": [
      "FTAL Hermite 14.1 ± 5.9\n",
      "FTAL Legendre 14.6 ± 6.8\n"
     ]
    }
   ],
   "source": [
    "t_hermite_np = np.array(t_hermite)\n",
    "DD_hermite = np.round(t_hermite_np.mean(), 1)\n",
    "std_DD_hermite = np.round(t_hermite_np.std(), 1)\n",
    "print('FTAL Hermite', DD_hermite, '±', std_DD_hermite)\n",
    "\n",
    "t_legendre_np = np.array(t_legendre)\n",
    "DD_legendre = np.round(t_legendre_np.mean(), 1)\n",
    "std_DD_legendre = np.round(t_legendre_np.std(), 1)\n",
    "print('FTAL Legendre', DD_legendre, '±', std_DD_legendre)"
   ]
  },
  {
   "cell_type": "code",
   "execution_count": 17,
   "id": "BCzZ9EooWG6I",
   "metadata": {
    "id": "BCzZ9EooWG6I",
    "outputId": "c207002f-611d-4733-82b4-f574a8547b15"
   },
   "outputs": [
    {
     "name": "stdout",
     "output_type": "stream",
     "text": [
      "0\n",
      "1\n",
      "2\n",
      "3\n",
      "4\n",
      "5\n",
      "6\n",
      "7\n",
      "8\n",
      "9\n"
     ]
    }
   ],
   "source": [
    "np.random.seed(1)\n",
    "\n",
    "# Number of observations\n",
    "n = 150\n",
    "# True change point\n",
    "tau = 75\n",
    "\n",
    "# Standard deviation before the change point\n",
    "sigma_1 = 0.1\n",
    "# Standard deviation after the change point\n",
    "sigma_2 = 0.3\n",
    "\n",
    "S_kliep_list = []\n",
    "S_mmd_list = []\n",
    "\n",
    "for item in range(10):\n",
    "    # Generate a Gaussian sequence of observations\n",
    "\n",
    "    X = randn(n)\n",
    "    X[:tau] *= sigma_1\n",
    "    X[tau:] *= sigma_2\n",
    "    \n",
    "    S_kliep, _ = compute_test_stat_kliep(X, window_size=20, sigma=0.33)\n",
    "    S_mmd, _ = compute_test_stat_mmd(X, window_size=20, sigma=0.1)\n",
    "    \n",
    "    S_kliep_list.append(S_kliep)\n",
    "    S_mmd_list.append(S_mmd)\n",
    "    \n",
    "    print(item)"
   ]
  },
  {
   "cell_type": "code",
   "execution_count": 18,
   "id": "8a9fd7a7",
   "metadata": {},
   "outputs": [
    {
     "name": "stdout",
     "output_type": "stream",
     "text": [
      "KLIEP. False alarms: 0\n",
      "M-statistic. False alarms: 0\n"
     ]
    }
   ],
   "source": [
    "t_kliep = []\n",
    "t_mmd = []\n",
    "\n",
    "fa_kliep = 0\n",
    "fa_mmd = 0\n",
    "\n",
    "for i in range(10):\n",
    "\n",
    "    S_kliep = S_kliep_list[i]\n",
    "    S_mmd = S_mmd_list[i]\n",
    "    \n",
    "    if np.sum(S_kliep > threshold_kliep_33) > 0:\n",
    "        imin_kliep, _ = np.ma.flatnotmasked_edges(np.ma.masked_array(S_kliep, S_kliep <= threshold_kliep_33))\n",
    "    else:\n",
    "        imin_kliep = n\n",
    "    \n",
    "    if np.sum(S_mmd > threshold_mmd_20_10) > 0:\n",
    "        imin_mmd, _ = np.ma.flatnotmasked_edges(np.ma.masked_array(S_mmd, S_mmd <= threshold_mmd_20_10))\n",
    "    else:\n",
    "        imin_mmd = n\n",
    "        \n",
    "    \n",
    "    if imin_kliep - tau <= 0:\n",
    "        fa_kliep += 1\n",
    "    else:\n",
    "        t_kliep.append(imin_kliep - tau)\n",
    "        \n",
    "    if imin_mmd - tau <= 0:\n",
    "        fa_mmd += 1\n",
    "    else:\n",
    "        t_mmd.append(imin_mmd - tau)\n",
    "        \n",
    "print('KLIEP. False alarms:', fa_kliep)\n",
    "print('M-statistic. False alarms:', fa_mmd)"
   ]
  },
  {
   "cell_type": "code",
   "execution_count": 19,
   "id": "eMIoqZcvGCon",
   "metadata": {
    "id": "eMIoqZcvGCon"
   },
   "outputs": [
    {
     "name": "stdout",
     "output_type": "stream",
     "text": [
      "KLIEP 19.2 ± 18.4\n",
      "M-statistic 51.1 ± 27.3\n"
     ]
    }
   ],
   "source": [
    "t_kliep_np = np.array(t_kliep)\n",
    "DD_kliep = np.round(t_kliep_np.mean(), 1)\n",
    "std_DD_kliep = np.round(t_kliep_np.std(), 1)\n",
    "print('KLIEP', DD_kliep, '±', std_DD_kliep)\n",
    "\n",
    "t_mmd_np = np.array(t_mmd)\n",
    "DD_mmd = np.round(t_mmd_np.mean(), 1)\n",
    "std_DD_mmd = np.round(t_mmd_np.std(), 1)\n",
    "print('M-statistic', DD_mmd, '±', std_DD_mmd)"
   ]
  },
  {
   "cell_type": "markdown",
   "id": "1bbd340e",
   "metadata": {
    "id": "1bbd340e"
   },
   "source": [
    "### Distribution change detection"
   ]
  },
  {
   "cell_type": "code",
   "execution_count": 20,
   "id": "wEOqHhOMG6WB",
   "metadata": {
    "colab": {
     "background_save": true,
     "base_uri": "https://localhost:8080/"
    },
    "id": "wEOqHhOMG6WB",
    "outputId": "5b08b9b2-6ec2-4355-b829-a63c6b008246"
   },
   "outputs": [
    {
     "name": "stdout",
     "output_type": "stream",
     "text": [
      "Iteration 0\n",
      "Iteration 1\n",
      "Iteration 2\n",
      "Iteration 3\n",
      "Iteration 4\n"
     ]
    }
   ],
   "source": [
    "np.random.seed(1)\n",
    "sigma = 0.1\n",
    "\n",
    "# Number of observations\n",
    "n = 200\n",
    "# True change point\n",
    "tau = 75\n",
    "\n",
    "p = 6\n",
    "S_poly_list = []\n",
    "S_nn_list = []\n",
    "\n",
    "for item in range(5):\n",
    "    \n",
    "    print('Iteration', item)\n",
    "    \n",
    "    ### Uniform on [-sigma sqrt(3), sigma sqrt(3)]\n",
    "    Y = 2 * np.sqrt(3) * sigma * (np.random.rand(tau) - 0.5)\n",
    "    ### Gaussian N(0, sigma^2)\n",
    "    Z = sigma * randn(n - tau)\n",
    "    X = np.append(Y, Z)\n",
    "    \n",
    "    S_poly, _ = compute_test_stat_linear(X, p)\n",
    "    S_nn, _ = compute_test_stat_nn(X, n_epochs=50)\n",
    "    \n",
    "    S_poly_list.append(S_poly)\n",
    "    S_nn_list.append(S_nn)"
   ]
  },
  {
   "cell_type": "code",
   "execution_count": 21,
   "id": "fc7df484",
   "metadata": {},
   "outputs": [
    {
     "name": "stdout",
     "output_type": "stream",
     "text": [
      "Neural networks. False alarms: 1 . Undetected change points: 0\n",
      "Polynomials. False alarms: 0 . Undetected change points: 1\n"
     ]
    }
   ],
   "source": [
    "t_lin = []\n",
    "t_nn = []\n",
    "\n",
    "fa_lin = 0\n",
    "fa_nn = 0\n",
    "\n",
    "nd_nn = 0\n",
    "nd_lin = 0\n",
    "\n",
    "for i in range(5):\n",
    "\n",
    "    S_lin = S_poly_list[i]\n",
    "    S_nn = S_nn_list[i]\n",
    "    \n",
    "    if np.sum(S_lin > threshold_p_6_poly) > 0:\n",
    "        imin_lin, _ = np.ma.flatnotmasked_edges(np.ma.masked_array(S_lin, S_lin <= threshold_p_6_poly))\n",
    "    else:\n",
    "        imin_lin = n\n",
    "        nd_lin += 1\n",
    "        \n",
    "    if np.sum(S_nn > threshold_nn_4) > 0:\n",
    "        imin_nn, _ = np.ma.flatnotmasked_edges(np.ma.masked_array(S_nn, S_nn <= threshold_nn_4))\n",
    "    else:\n",
    "        imin_nn = n\n",
    "        nd_nn += 1\n",
    "    \n",
    "    if imin_lin - tau <= 0:\n",
    "        fa_lin += 1\n",
    "    else:\n",
    "        t_lin.append(imin_lin - tau)\n",
    "        \n",
    "    if imin_nn - tau <= 0:\n",
    "        fa_nn += 1\n",
    "    else:\n",
    "        t_nn.append(imin_nn - tau)\n",
    "        \n",
    "print('Neural networks. False alarms:', fa_nn, '. Undetected change points:', nd_nn)\n",
    "print('Polynomials. False alarms:', fa_lin, '. Undetected change points:', nd_lin)"
   ]
  },
  {
   "cell_type": "code",
   "execution_count": 22,
   "id": "c704d957",
   "metadata": {},
   "outputs": [
    {
     "name": "stdout",
     "output_type": "stream",
     "text": [
      "polynomial basis 58.4 ± 34.8\n",
      "neural network 38.0 ± 14.1\n"
     ]
    }
   ],
   "source": [
    "t_lin_np = np.array(t_lin)\n",
    "DD_poly = np.round(t_lin_np.mean(), 1)\n",
    "std_DD_poly = np.round(t_lin_np.std(), 1)\n",
    "print('polynomial basis', DD_poly, '±', std_DD_poly)\n",
    "\n",
    "t_nn_np = np.array(t_nn)\n",
    "DD_nn = np.round(t_nn_np.mean(), 1)\n",
    "std_DD_nn = np.round(t_nn_np.std(), 1)\n",
    "print('neural network', DD_nn, '±', std_DD_nn)"
   ]
  },
  {
   "cell_type": "code",
   "execution_count": 23,
   "id": "a508d2c7",
   "metadata": {},
   "outputs": [
    {
     "name": "stdout",
     "output_type": "stream",
     "text": [
      "Iteration 0\n",
      "Iteration 1\n",
      "Iteration 2\n",
      "Iteration 3\n",
      "Iteration 4\n"
     ]
    }
   ],
   "source": [
    "np.random.seed(1)\n",
    "\n",
    "# Number of observations\n",
    "n = 200\n",
    "# True change point\n",
    "tau = 75\n",
    "\n",
    "sigma = 0.1\n",
    "\n",
    "p = 6\n",
    "S_hermite_list = []\n",
    "S_legendre_list = []\n",
    "\n",
    "for item in range(5):\n",
    "    \n",
    "    print('Iteration', item)\n",
    "    \n",
    "    ### Uniform on [-sigma sqrt(3), sigma sqrt(3)]\n",
    "    Y = 2 * np.sqrt(3) * sigma * (np.random.rand(tau) - 0.5)\n",
    "    ### Gaussian N(0, sigma^2)\n",
    "    Z = sigma * randn(n - tau)\n",
    "    X = np.append(Y, Z)\n",
    "    \n",
    "    S_hermite, _ = compute_test_stat_ftal(X, p, beta=0.005, design='hermite')\n",
    "    S_legendre, _ = compute_test_stat_ftal(X, p, beta=0.005, design='legendre')\n",
    "    \n",
    "    S_hermite_list.append(S_hermite)\n",
    "    S_legendre_list.append(S_legendre)"
   ]
  },
  {
   "cell_type": "code",
   "execution_count": 24,
   "id": "c0102886",
   "metadata": {},
   "outputs": [
    {
     "name": "stdout",
     "output_type": "stream",
     "text": [
      "Hermite polynomials. False alarms: 0 . Undetected change points: 0\n",
      "Legendre polynomials. False alarms: 0 . Undetected change points: 0\n"
     ]
    }
   ],
   "source": [
    "t_hermite = []\n",
    "t_legendre = []\n",
    "\n",
    "fa_hermite = 0\n",
    "fa_legendre = 0\n",
    "\n",
    "nd_hermite = 0\n",
    "nd_legendre = 0\n",
    "\n",
    "for i in range(5):\n",
    "\n",
    "    S_hermite = S_hermite_list[i]\n",
    "    S_legendre = S_legendre_list[i]\n",
    "    \n",
    "    if np.sum(S_hermite > threshold_hermite_p_6_0005) > 0:\n",
    "        imin_hermite, _ = np.ma.flatnotmasked_edges(np.ma.masked_array(S_hermite,\\\n",
    "                                                                       S_hermite <= threshold_hermite_p_6_0005))\n",
    "    else:\n",
    "        imin_hermite = n\n",
    "        nd_hermite += 1\n",
    "        \n",
    "    if np.sum(S_legendre > threshold_legendre_p_6_0005) > 0:\n",
    "        imin_legendre, _ = np.ma.flatnotmasked_edges(np.ma.masked_array(S_legendre,\\\n",
    "                                                                        S_legendre <= threshold_legendre_p_6_0005))\n",
    "    else:\n",
    "        imin_legendre = n\n",
    "        nd_legendre += 1\n",
    "    \n",
    "    if imin_hermite - tau <= 0:\n",
    "        fa_hermite += 1\n",
    "    else:\n",
    "        t_hermite.append(imin_hermite - tau)\n",
    "        \n",
    "    if imin_legendre - tau <= 0:\n",
    "        fa_legendre += 1\n",
    "    else:\n",
    "        t_legendre.append(imin_legendre - tau)\n",
    "        \n",
    "print('Hermite polynomials. False alarms:', fa_hermite, '. Undetected change points:', nd_hermite)\n",
    "print('Legendre polynomials. False alarms:', fa_legendre, '. Undetected change points:', nd_legendre)"
   ]
  },
  {
   "cell_type": "code",
   "execution_count": 25,
   "id": "1e6e97fc",
   "metadata": {},
   "outputs": [
    {
     "name": "stdout",
     "output_type": "stream",
     "text": [
      "FTAL Hermite 24.2 ± 19.7\n",
      "FTAL Legendre 17.6 ± 14.7\n"
     ]
    }
   ],
   "source": [
    "t_hermite_np = np.array(t_hermite)\n",
    "DD_hermite = np.round(t_hermite_np.mean(), 1)\n",
    "std_DD_hermite = np.round(t_hermite_np.std(), 1)\n",
    "print('FTAL Hermite', DD_hermite, '±', std_DD_hermite)\n",
    "\n",
    "t_legendre_np = np.array(t_legendre)\n",
    "DD_legendre = np.round(t_legendre_np.mean(), 1)\n",
    "std_DD_legendre = np.round(t_legendre_np.std(), 1)\n",
    "print('FTAL Legendre', DD_legendre, '±', std_DD_legendre)"
   ]
  },
  {
   "cell_type": "code",
   "execution_count": 26,
   "id": "d2607231",
   "metadata": {},
   "outputs": [
    {
     "name": "stdout",
     "output_type": "stream",
     "text": [
      "0\n",
      "1\n",
      "2\n",
      "3\n",
      "4\n"
     ]
    }
   ],
   "source": [
    "np.random.seed(1)\n",
    "\n",
    "# Number of observations\n",
    "n = 200\n",
    "# True change point\n",
    "tau = 75\n",
    "\n",
    "sigma = 0.1\n",
    "\n",
    "S_kliep_list = []\n",
    "S_mmd_list = []\n",
    "\n",
    "for item in range(5):\n",
    "    \n",
    "    ### Uniform on [-sigma sqrt(3), sigma sqrt(3)]\n",
    "    Y = 2 * np.sqrt(3) * sigma * (np.random.rand(tau) - 0.5)\n",
    "    ### Gaussian N(0, sigma^2)\n",
    "    Z = sigma * randn(n - tau)\n",
    "    X = np.append(Y, Z)\n",
    "    \n",
    "    S_kliep, _ = compute_test_stat_kliep(X, window_size=50, sigma=0.5)\n",
    "    S_mmd, _ = compute_test_stat_mmd(X, window_size=50, sigma=0.5)\n",
    "    \n",
    "    S_kliep_list.append(S_kliep)\n",
    "    S_mmd_list.append(S_mmd)\n",
    "    \n",
    "    print(item)"
   ]
  },
  {
   "cell_type": "code",
   "execution_count": 28,
   "id": "55b097f9",
   "metadata": {},
   "outputs": [
    {
     "name": "stdout",
     "output_type": "stream",
     "text": [
      "KLIEP. False alarms: 0 . Undetected change points: 0\n",
      "M-statistic. False alarms: 0 . Undetected change points: 0\n"
     ]
    }
   ],
   "source": [
    "t_kliep = []\n",
    "t_mmd = []\n",
    "\n",
    "fa_kliep = 0\n",
    "fa_mmd = 0\n",
    "\n",
    "nd_kliep = 0\n",
    "nd_mmd = 0\n",
    "\n",
    "for i in range(5):\n",
    "\n",
    "    S_kliep = S_kliep_list[i]\n",
    "    S_mmd = S_mmd_list[i]\n",
    "    \n",
    "    if np.sum(S_kliep > threshold_kliep_50) > 0:\n",
    "        imin_kliep, _ = np.ma.flatnotmasked_edges(np.ma.masked_array(S_kliep, S_kliep <= threshold_kliep_50))\n",
    "    else:\n",
    "        imin_kliep = n\n",
    "        nd_kliep += 1\n",
    "    \n",
    "    if np.sum(S_mmd > threshold_mmd_50_50) > 0:\n",
    "        imin_mmd, _ = np.ma.flatnotmasked_edges(np.ma.masked_array(S_mmd, S_mmd <= threshold_mmd_50_50))\n",
    "    else:\n",
    "        imin_mmd = n\n",
    "        nd_mmd += 1\n",
    "        \n",
    "    \n",
    "    if imin_kliep - tau <= 0:\n",
    "        fa_kliep += 1\n",
    "    else:\n",
    "        t_kliep.append(imin_kliep - tau)\n",
    "        \n",
    "    if imin_mmd - tau <= 0:\n",
    "        fa_mmd += 1\n",
    "    else:\n",
    "        t_mmd.append(imin_mmd - tau)\n",
    "        \n",
    "print('KLIEP. False alarms:', fa_kliep, '. Undetected change points:', nd_kliep)\n",
    "print('M-statistic. False alarms:', fa_mmd, '. Undetected change points:', nd_mmd)"
   ]
  },
  {
   "cell_type": "code",
   "execution_count": 29,
   "id": "1ef2af3b",
   "metadata": {},
   "outputs": [
    {
     "name": "stdout",
     "output_type": "stream",
     "text": [
      "KLIEP 26.8 ± 1.6\n",
      "M-statistic 27.8 ± 2.2\n"
     ]
    }
   ],
   "source": [
    "t_kliep_np = np.array(t_kliep)\n",
    "DD_kliep = np.round(t_kliep_np.mean(), 1)\n",
    "std_DD_kliep = np.round(t_kliep_np.std(), 1)\n",
    "print('KLIEP', DD_kliep, '±', std_DD_kliep)\n",
    "\n",
    "t_mmd_np = np.array(t_mmd)\n",
    "DD_mmd = np.round(t_mmd_np.mean(), 1)\n",
    "std_DD_mmd = np.round(t_mmd_np.std(), 1)\n",
    "print('M-statistic', DD_mmd, '±', std_DD_mmd)"
   ]
  },
  {
   "cell_type": "code",
   "execution_count": null,
   "id": "5bd520eb",
   "metadata": {},
   "outputs": [],
   "source": []
  }
 ],
 "metadata": {
  "colab": {
   "collapsed_sections": [],
   "name": "online_change_point_detection.ipynb",
   "provenance": []
  },
  "kernelspec": {
   "display_name": "Python 3 (ipykernel)",
   "language": "python",
   "name": "python3"
  },
  "language_info": {
   "codemirror_mode": {
    "name": "ipython",
    "version": 3
   },
   "file_extension": ".py",
   "mimetype": "text/x-python",
   "name": "python",
   "nbconvert_exporter": "python",
   "pygments_lexer": "ipython3",
   "version": "3.10.12"
  }
 },
 "nbformat": 4,
 "nbformat_minor": 5
}
