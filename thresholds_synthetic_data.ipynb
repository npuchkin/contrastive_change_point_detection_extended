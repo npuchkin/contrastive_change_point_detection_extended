{
 "cells": [
  {
   "cell_type": "code",
   "execution_count": 1,
   "metadata": {},
   "outputs": [],
   "source": [
    "import numpy as np\n",
    "from numpy.random import randn\n",
    "from numpy.random import laplace\n",
    "import pandas as pd\n",
    "import matplotlib.pyplot as plt\n",
    "\n",
    "# Import the algorithms for comparison\n",
    "from algorithms.contrastive_change_point import compute_test_stat_linear\n",
    "from algorithms.contrastive_change_point import compute_test_stat_nn\n",
    "from algorithms.fast_contrastive_change_point import compute_test_stat_ftal\n",
    "from algorithms.kliep import compute_test_stat_kliep\n",
    "from algorithms.m_statistic import compute_test_stat_mmd\n",
    "from algorithms.cusum import compute_cusum\n",
    "\n",
    "%matplotlib inline"
   ]
  },
  {
   "cell_type": "markdown",
   "metadata": {},
   "source": [
    "### Thresholds for the contrastive change point detection algorithm"
   ]
  },
  {
   "cell_type": "markdown",
   "metadata": {
    "id": "fzScOQYwMSav"
   },
   "source": [
    "#### Thresholds for the first experiment"
   ]
  },
  {
   "cell_type": "code",
   "execution_count": 2,
   "metadata": {
    "id": "p_zU8j5kKxpr"
   },
   "outputs": [],
   "source": [
    "# Number of observations\n",
    "n = 150\n",
    "\n",
    "# Standard deviation of the observations\n",
    "sigma = 0.1\n",
    "\n",
    "np.random.seed(1)\n",
    "\n",
    "p = 2\n",
    "S_poly_list = []\n",
    "S_nn_list = []\n",
    "\n",
    "# Generate Gaussian sequences of observations\n",
    "# and compute corresponding values of test\n",
    "# statistics 9 times\n",
    "for item in range(9):\n",
    "    \n",
    "    X = sigma * randn(n)\n",
    "\n",
    "    S_poly, _ = compute_test_stat_linear(X, p)\n",
    "    S_nn, _ = compute_test_stat_nn(X, n_epochs=50)\n",
    "    \n",
    "    S_poly_list.append(S_poly)\n",
    "    S_nn_list.append(S_nn)"
   ]
  },
  {
   "cell_type": "code",
   "execution_count": 3,
   "metadata": {
    "id": "q3jUaVBhMzRo"
   },
   "outputs": [],
   "source": [
    "S_nn_np = np.array(S_nn_list)\n",
    "df_nn = pd.DataFrame(S_nn_np.T, columns=range(9))\n",
    "df_nn.to_csv('thresholds/nn_n_epochs_50_sigma_0.1.csv',index=False)"
   ]
  },
  {
   "cell_type": "code",
   "execution_count": 4,
   "metadata": {},
   "outputs": [
    {
     "name": "stdout",
     "output_type": "stream",
     "text": [
      "4.3755\n"
     ]
    }
   ],
   "source": [
    "S_nn_np = pd.read_csv('thresholds/nn_n_epochs_50_sigma_0.1.csv').to_numpy()\n",
    "threshold_nn = np.round(np.max(S_nn_np), 4)\n",
    "print(threshold_nn)"
   ]
  },
  {
   "cell_type": "code",
   "execution_count": 5,
   "metadata": {
    "id": "J6pg78WRQ2iB"
   },
   "outputs": [],
   "source": [
    "S_poly_np = np.array(S_poly_list)\n",
    "df_poly = pd.DataFrame(S_poly_np.T, columns=range(9))\n",
    "df_poly.to_csv('thresholds/polynomial_p_2_sigma_0.1.csv',index=False)"
   ]
  },
  {
   "cell_type": "code",
   "execution_count": 6,
   "metadata": {},
   "outputs": [
    {
     "name": "stdout",
     "output_type": "stream",
     "text": [
      "2.4594\n"
     ]
    }
   ],
   "source": [
    "S_poly_np = pd.read_csv('thresholds/polynomial_p_2_sigma_0.1.csv').to_numpy()\n",
    "threshold_p_2_poly = np.round(np.max(S_poly_np), 4)\n",
    "print(threshold_p_2_poly)"
   ]
  },
  {
   "cell_type": "markdown",
   "metadata": {
    "id": "MVwugpspRbAp"
   },
   "source": [
    "#### Threshold for the second experiment"
   ]
  },
  {
   "cell_type": "code",
   "execution_count": 7,
   "metadata": {
    "id": "kdKUV67lRgVS"
   },
   "outputs": [],
   "source": [
    "# Number of observations\n",
    "n = 150\n",
    "\n",
    "# Standard deviation of the observations\n",
    "sigma = 0.1\n",
    "\n",
    "np.random.seed(1)\n",
    "\n",
    "p = 3\n",
    "S_poly_list = []\n",
    "\n",
    "# Generate Gaussian sequences of observations\n",
    "# and compute corresponding values of test\n",
    "# statistics 9 times\n",
    "for item in range(9):\n",
    "    \n",
    "    X = sigma * randn(n)\n",
    "\n",
    "    S_poly, _ = compute_test_stat_linear(X, p)\n",
    "    \n",
    "    S_poly_list.append(S_poly)"
   ]
  },
  {
   "cell_type": "code",
   "execution_count": 8,
   "metadata": {
    "id": "QJaEBQwtRoa9"
   },
   "outputs": [],
   "source": [
    "S_poly_np = np.array(S_poly_list)\n",
    "df_poly = pd.DataFrame(S_poly_np.T, columns=range(9))\n",
    "df_poly.to_csv('thresholds/polynomial_p_3_sigma_0.1.csv',index=False)"
   ]
  },
  {
   "cell_type": "code",
   "execution_count": 9,
   "metadata": {},
   "outputs": [
    {
     "name": "stdout",
     "output_type": "stream",
     "text": [
      "3.9832\n"
     ]
    }
   ],
   "source": [
    "S_poly_np = pd.read_csv('thresholds/polynomial_p_3_sigma_0.1.csv').to_numpy()\n",
    "threshold_p_3_poly = np.round(np.max(S_poly_np), 4)\n",
    "print(threshold_p_3_poly)"
   ]
  },
  {
   "cell_type": "markdown",
   "metadata": {
    "id": "xo5QsRNkRqik"
   },
   "source": [
    "#### Threshold for the third experiment"
   ]
  },
  {
   "cell_type": "code",
   "execution_count": 10,
   "metadata": {
    "id": "-50KRR_vRuWU"
   },
   "outputs": [],
   "source": [
    "# Number of observations\n",
    "n = 125\n",
    "\n",
    "# Standard deviation of the observations\n",
    "sigma = 0.1\n",
    "\n",
    "np.random.seed(1)\n",
    "\n",
    "p = 6\n",
    "S_poly_list = []\n",
    "S_nn_list = []\n",
    "\n",
    "# Generate sequences of observations\n",
    "# and compute corresponding values of test\n",
    "# statistics 4 times\n",
    "for item in range(4):\n",
    "    \n",
    "    X = 2 * np.sqrt(3) * sigma * (np.random.rand(n) - 0.5)\n",
    "\n",
    "    S_poly, _ = compute_test_stat_linear(X, p)\n",
    "    S_nn, _ = compute_test_stat_nn(X, n_epochs=50)\n",
    "    \n",
    "    S_poly_list.append(S_poly)\n",
    "    S_nn_list.append(S_nn)"
   ]
  },
  {
   "cell_type": "code",
   "execution_count": 11,
   "metadata": {
    "id": "P_77XWbKR3Qd"
   },
   "outputs": [],
   "source": [
    "S_poly_np = np.array(S_poly_list)\n",
    "df_poly = pd.DataFrame(S_poly_np.T, columns=range(4))\n",
    "df_poly.to_csv('thresholds/polynomial_p_6_sigma_0.1.csv',index=False)"
   ]
  },
  {
   "cell_type": "code",
   "execution_count": 12,
   "metadata": {},
   "outputs": [
    {
     "name": "stdout",
     "output_type": "stream",
     "text": [
      "3.5052\n"
     ]
    }
   ],
   "source": [
    "S_poly_np = pd.read_csv('thresholds/polynomial_p_6_sigma_0.1.csv').to_numpy()\n",
    "threshold_p_6_poly = np.round(np.mean(np.max(S_poly_np, axis=0)), 4)\n",
    "print(threshold_p_6_poly)"
   ]
  },
  {
   "cell_type": "code",
   "execution_count": 13,
   "metadata": {},
   "outputs": [],
   "source": [
    "S_nn_np = np.array(S_nn_list)\n",
    "df_nn = pd.DataFrame(S_nn_np.T, columns=range(4))\n",
    "df_nn.to_csv('thresholds/nn_n_epochs_50_sigma_0.1_4_times.csv',index=False)"
   ]
  },
  {
   "cell_type": "code",
   "execution_count": 14,
   "metadata": {},
   "outputs": [
    {
     "name": "stdout",
     "output_type": "stream",
     "text": [
      "2.7721\n"
     ]
    }
   ],
   "source": [
    "S_nn_np = pd.read_csv('thresholds/nn_n_epochs_50_sigma_0.1_4_times.csv').to_numpy()\n",
    "threshold_nn = np.round(np.mean(np.max(S_nn_np, axis=0)), 4)\n",
    "print(threshold_nn)"
   ]
  },
  {
   "cell_type": "markdown",
   "metadata": {},
   "source": [
    "### Thresholds for the fast contrastive change point detection algorithm"
   ]
  },
  {
   "cell_type": "markdown",
   "metadata": {},
   "source": [
    "#### Thresholds for the first experiment"
   ]
  },
  {
   "cell_type": "code",
   "execution_count": 15,
   "metadata": {},
   "outputs": [],
   "source": [
    "# Number of observations\n",
    "n = 150\n",
    "\n",
    "# Standard deviation of the observations\n",
    "sigma = 0.1\n",
    "\n",
    "np.random.seed(1)\n",
    "\n",
    "p = 2\n",
    "\n",
    "S_hermite_001_list = []\n",
    "S_legendre_001_list = []\n",
    "S_hermite_0005_list = []\n",
    "S_legendre_0005_list = []\n",
    "\n",
    "# Generate Gaussian sequences of observations\n",
    "# and compute corresponding values of test\n",
    "# statistics 9 times\n",
    "for item in range(9):\n",
    "    \n",
    "    X = sigma * randn(n)\n",
    "\n",
    "    S_hermite_001, _ = compute_test_stat_ftal(X, p, beta=0.01, design=\"hermite\")\n",
    "    S_hermite_0005, _ = compute_test_stat_ftal(X, p, beta=0.005, design=\"hermite\")\n",
    "    S_legendre_001, _ = compute_test_stat_ftal(X, p, beta=0.01, design=\"legendre\")\n",
    "    S_legendre_0005, _ = compute_test_stat_ftal(X, p, beta=0.005, design=\"legendre\")\n",
    "    \n",
    "    S_hermite_001_list.append(S_hermite_001)\n",
    "    S_hermite_0005_list.append(S_hermite_0005)\n",
    "    S_legendre_001_list.append(S_legendre_001)\n",
    "    S_legendre_0005_list.append(S_legendre_0005)"
   ]
  },
  {
   "cell_type": "code",
   "execution_count": 16,
   "metadata": {},
   "outputs": [
    {
     "name": "stdout",
     "output_type": "stream",
     "text": [
      "1.8063\n",
      "2.2187\n",
      "1.8063\n",
      "2.2187\n"
     ]
    }
   ],
   "source": [
    "S_hermite_001_np = np.array(S_hermite_001_list)\n",
    "S_hermite_0005_np = np.array(S_hermite_0005_list)\n",
    "S_legendre_001_np = np.array(S_legendre_001_list)\n",
    "S_legendre_0005_np = np.array(S_legendre_0005_list)\n",
    "\n",
    "threshold_hermite_001 = np.round(np.max(S_hermite_001_np), 4)\n",
    "threshold_hermite_0005 = np.round(np.max(S_hermite_0005_np), 4)\n",
    "threshold_legendre_001 = np.round(np.max(S_legendre_001_np), 4)\n",
    "threshold_legendre_0005 = np.round(np.max(S_legendre_0005_np), 4)\n",
    "\n",
    "print(threshold_hermite_001)\n",
    "print(threshold_hermite_0005)\n",
    "print(threshold_legendre_001)\n",
    "print(threshold_legendre_0005)"
   ]
  },
  {
   "cell_type": "markdown",
   "metadata": {},
   "source": [
    "#### Thresholds for the second experiment"
   ]
  },
  {
   "cell_type": "code",
   "execution_count": 17,
   "metadata": {},
   "outputs": [],
   "source": [
    "# Number of observations\n",
    "n = 150\n",
    "\n",
    "# Standard deviation of the observations\n",
    "sigma = 0.1\n",
    "\n",
    "np.random.seed(1)\n",
    "\n",
    "p = 3\n",
    "\n",
    "S_hermite_001_list = []\n",
    "S_legendre_001_list = []\n",
    "S_hermite_0005_list = []\n",
    "S_legendre_0005_list = []\n",
    "\n",
    "# Generate Gaussian sequences of observations\n",
    "# and compute corresponding values of test\n",
    "# statistics 9 times\n",
    "for item in range(9):\n",
    "    \n",
    "    X = sigma * randn(n)\n",
    "\n",
    "    S_hermite_001, _ = compute_test_stat_ftal(X, p, beta=0.01, design=\"hermite\")\n",
    "    S_hermite_0005, _ = compute_test_stat_ftal(X, p, beta=0.005, design=\"hermite\")\n",
    "    S_legendre_001, _ = compute_test_stat_ftal(X, p, beta=0.01, design=\"legendre\")\n",
    "    S_legendre_0005, _ = compute_test_stat_ftal(X, p, beta=0.005, design=\"legendre\")\n",
    "    \n",
    "    S_hermite_001_list.append(S_hermite_001)\n",
    "    S_hermite_0005_list.append(S_hermite_0005)\n",
    "    S_legendre_001_list.append(S_legendre_001)\n",
    "    S_legendre_0005_list.append(S_legendre_0005)"
   ]
  },
  {
   "cell_type": "code",
   "execution_count": 18,
   "metadata": {},
   "outputs": [
    {
     "name": "stdout",
     "output_type": "stream",
     "text": [
      "2.2711\n",
      "2.2775\n",
      "2.3061\n",
      "2.1969\n"
     ]
    }
   ],
   "source": [
    "S_hermite_001_np = np.array(S_hermite_001_list)\n",
    "S_hermite_0005_np = np.array(S_hermite_0005_list)\n",
    "S_legendre_001_np = np.array(S_legendre_001_list)\n",
    "S_legendre_0005_np = np.array(S_legendre_0005_list)\n",
    "\n",
    "threshold_hermite_001 = np.round(np.max(S_hermite_001_np), 4)\n",
    "threshold_hermite_0005 = np.round(np.max(S_hermite_0005_np), 4)\n",
    "threshold_legendre_001 = np.round(np.max(S_legendre_001_np), 4)\n",
    "threshold_legendre_0005 = np.round(np.max(S_legendre_0005_np), 4)\n",
    "\n",
    "print(threshold_hermite_001)\n",
    "print(threshold_hermite_0005)\n",
    "print(threshold_legendre_001)\n",
    "print(threshold_legendre_0005)"
   ]
  },
  {
   "cell_type": "markdown",
   "metadata": {},
   "source": [
    "#### Thresholds for the third experiment"
   ]
  },
  {
   "cell_type": "code",
   "execution_count": 19,
   "metadata": {},
   "outputs": [],
   "source": [
    "# Number of observations\n",
    "n = 125\n",
    "\n",
    "# Standard deviation of the observations\n",
    "sigma = 0.1\n",
    "\n",
    "np.random.seed(1)\n",
    "\n",
    "p = 6\n",
    "\n",
    "S_hermite_001_list = []\n",
    "S_legendre_001_list = []\n",
    "S_hermite_0005_list = []\n",
    "S_legendre_0005_list = []\n",
    "\n",
    "# Generate sequences of observations\n",
    "# and compute corresponding values of test\n",
    "# statistics 4 times\n",
    "for item in range(4):\n",
    "    \n",
    "    X = 2 * np.sqrt(3) * sigma * (np.random.rand(n) - 0.5)\n",
    "\n",
    "    S_hermite_001, _ = compute_test_stat_ftal(X, p, beta=0.01, design=\"hermite\")\n",
    "    S_hermite_0005, _ = compute_test_stat_ftal(X, p, beta=0.005, design=\"hermite\")\n",
    "    S_legendre_001, _ = compute_test_stat_ftal(X, p, beta=0.01, design=\"legendre\")\n",
    "    S_legendre_0005, _ = compute_test_stat_ftal(X, p, beta=0.005, design=\"legendre\")\n",
    "    \n",
    "    S_hermite_001_list.append(S_hermite_001)\n",
    "    S_hermite_0005_list.append(S_hermite_0005)\n",
    "    S_legendre_001_list.append(S_legendre_001)\n",
    "    S_legendre_0005_list.append(S_legendre_0005)"
   ]
  },
  {
   "cell_type": "code",
   "execution_count": 20,
   "metadata": {},
   "outputs": [
    {
     "name": "stdout",
     "output_type": "stream",
     "text": [
      "0.8849\n",
      "0.3889\n",
      "1.3858\n",
      "1.2247\n"
     ]
    }
   ],
   "source": [
    "S_hermite_001_np = np.array(S_hermite_001_list)\n",
    "S_hermite_0005_np = np.array(S_hermite_0005_list)\n",
    "S_legendre_001_np = np.array(S_legendre_001_list)\n",
    "S_legendre_0005_np = np.array(S_legendre_0005_list)\n",
    "\n",
    "threshold_hermite_001 = np.round(np.mean(np.max(S_hermite_001_np, axis=0)), 4)\n",
    "threshold_hermite_0005 = np.round(np.mean(np.max(S_hermite_0005_np, axis=0)), 4)\n",
    "threshold_legendre_001 = np.round(np.mean(np.max(S_legendre_001_np, axis=0)), 4)\n",
    "threshold_legendre_0005 = np.round(np.mean(np.max(S_legendre_0005_np, axis=0)), 4)\n",
    "\n",
    "print(threshold_hermite_001)\n",
    "print(threshold_hermite_0005)\n",
    "print(threshold_legendre_001)\n",
    "print(threshold_legendre_0005)"
   ]
  },
  {
   "cell_type": "markdown",
   "metadata": {
    "id": "YV8dnxMm-1HR"
   },
   "source": [
    "### Thresholds for KLIEP, CUSUM and M-statistic, sigma = 0.1"
   ]
  },
  {
   "cell_type": "markdown",
   "metadata": {},
   "source": [
    "#### Thresholds for the first experiment"
   ]
  },
  {
   "cell_type": "code",
   "execution_count": 21,
   "metadata": {
    "id": "fjbxBfiZ-1HS"
   },
   "outputs": [],
   "source": [
    "# Number of observations\n",
    "n = 150\n",
    "\n",
    "# Standard deviation of the observations\n",
    "sigma = 0.1\n",
    "\n",
    "# Generate a Gaussian sequence of observations\n",
    "np.random.seed(1)\n",
    "S_kliep_list = []\n",
    "S_mmd_list = []\n",
    "S_cusum_list = []\n",
    "\n",
    "for item in range(9):\n",
    "    \n",
    "    X = sigma * randn(n)\n",
    "\n",
    "    S_kliep, _ = compute_test_stat_kliep(X, window_size=20, sigma=0.2)\n",
    "    S_mmd, _ = compute_test_stat_mmd(X, window_size=20, sigma=0.5)\n",
    "    S_cusum = compute_cusum(X)\n",
    "    \n",
    "    S_kliep_list.append(S_kliep)\n",
    "    S_mmd_list.append(S_mmd)\n",
    "    S_cusum_list.append(S_cusum)"
   ]
  },
  {
   "cell_type": "code",
   "execution_count": 22,
   "metadata": {
    "id": "0XLK5Cop-1HT"
   },
   "outputs": [
    {
     "name": "stdout",
     "output_type": "stream",
     "text": [
      "6.0266\n",
      "9.5924\n",
      "0.4469\n"
     ]
    }
   ],
   "source": [
    "S_kliep_np = np.array(S_kliep_list)\n",
    "S_mmd_np = np.array(S_mmd_list)\n",
    "S_cusum_np = np.array(S_cusum_list)\n",
    "\n",
    "threshold_kliep = np.round(np.max(S_kliep_np), 4)\n",
    "threshold_mmd = np.round(np.max(S_mmd_np), 4)\n",
    "threshold_cusum = np.round(np.max(S_cusum_np), 4)\n",
    "\n",
    "print(threshold_kliep)\n",
    "print(threshold_mmd)\n",
    "print(threshold_cusum)"
   ]
  },
  {
   "cell_type": "markdown",
   "metadata": {
    "id": "V0VG2CCy-1Hj"
   },
   "source": [
    "#### Thresholds for the second experiment"
   ]
  },
  {
   "cell_type": "code",
   "execution_count": 23,
   "metadata": {},
   "outputs": [],
   "source": [
    "# Number of observations\n",
    "n = 150\n",
    "\n",
    "# Standard deviation of the observations\n",
    "sigma = 0.1\n",
    "\n",
    "# Generate a Gaussian sequence of observations\n",
    "np.random.seed(1)\n",
    "S_kliep_list = []\n",
    "S_mmd_list = []\n",
    "S_cusum_list = []\n",
    "\n",
    "for item in range(9):\n",
    "    \n",
    "    X = sigma * randn(n)\n",
    "\n",
    "    S_kliep, _ = compute_test_stat_kliep(X, window_size=20, sigma=0.33)\n",
    "    S_mmd, _ = compute_test_stat_mmd(X, window_size=20, sigma=0.1)\n",
    "    \n",
    "    S_kliep_list.append(S_kliep)\n",
    "    S_mmd_list.append(S_mmd)"
   ]
  },
  {
   "cell_type": "code",
   "execution_count": 24,
   "metadata": {},
   "outputs": [
    {
     "name": "stdout",
     "output_type": "stream",
     "text": [
      "4.153\n",
      "36.745\n"
     ]
    }
   ],
   "source": [
    "S_kliep_np = np.array(S_kliep_list)\n",
    "S_mmd_np = np.array(S_mmd_list)\n",
    "\n",
    "threshold_kliep = np.round(np.max(S_kliep_np), 4)\n",
    "threshold_mmd = np.round(np.max(S_mmd_np), 4)\n",
    "\n",
    "print(threshold_kliep)\n",
    "print(threshold_mmd)"
   ]
  },
  {
   "cell_type": "markdown",
   "metadata": {},
   "source": [
    "#### Thresholds for the third experiment"
   ]
  },
  {
   "cell_type": "code",
   "execution_count": 25,
   "metadata": {},
   "outputs": [],
   "source": [
    "# Number of observations\n",
    "n = 125\n",
    "\n",
    "# Standard deviation of the observations\n",
    "sigma = 0.1\n",
    "\n",
    "np.random.seed(1)\n",
    "S_kliep_list = []\n",
    "S_mmd_list = []\n",
    "S_cusum_list = []\n",
    "\n",
    "# Generate sequences of observations\n",
    "# and compute corresponding values of test\n",
    "# statistics 4 times\n",
    "for item in range(4):\n",
    "    \n",
    "    X = 2 * np.sqrt(3) * sigma * (np.random.rand(n) - 0.5)\n",
    "\n",
    "    S_kliep, _ = compute_test_stat_kliep(X, window_size=50, sigma=0.5)\n",
    "    S_mmd, _ = compute_test_stat_mmd(X, window_size=50, sigma=0.5)\n",
    "    \n",
    "    S_kliep_list.append(S_kliep)\n",
    "    S_mmd_list.append(S_mmd)"
   ]
  },
  {
   "cell_type": "code",
   "execution_count": 26,
   "metadata": {},
   "outputs": [
    {
     "name": "stdout",
     "output_type": "stream",
     "text": [
      "0.1655\n",
      "0.2613\n"
     ]
    }
   ],
   "source": [
    "S_kliep_np = np.array(S_kliep_list)\n",
    "S_mmd_np = np.array(S_mmd_list)\n",
    "\n",
    "threshold_kliep = np.round(np.mean(np.max(S_kliep_np, axis=0)), 4)\n",
    "threshold_mmd = np.round(np.mean(np.max(S_mmd_np, axis=0)), 4)\n",
    "\n",
    "print(threshold_kliep)\n",
    "print(threshold_mmd)"
   ]
  },
  {
   "cell_type": "code",
   "execution_count": null,
   "metadata": {},
   "outputs": [],
   "source": []
  },
  {
   "cell_type": "code",
   "execution_count": null,
   "metadata": {},
   "outputs": [],
   "source": []
  }
 ],
 "metadata": {
  "colab": {
   "name": "thresholds (1).ipynb",
   "provenance": []
  },
  "kernelspec": {
   "display_name": "Python 3 (ipykernel)",
   "language": "python",
   "name": "python3"
  },
  "language_info": {
   "codemirror_mode": {
    "name": "ipython",
    "version": 3
   },
   "file_extension": ".py",
   "mimetype": "text/x-python",
   "name": "python",
   "nbconvert_exporter": "python",
   "pygments_lexer": "ipython3",
   "version": "3.10.12"
  }
 },
 "nbformat": 4,
 "nbformat_minor": 1
}
